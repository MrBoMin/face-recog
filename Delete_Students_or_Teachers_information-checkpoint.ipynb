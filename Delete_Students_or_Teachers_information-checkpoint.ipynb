{
 "cells": [
  {
   "cell_type": "code",
   "execution_count": 1,
   "id": "4984c062-fd96-4af8-946f-0eff6da4986f",
   "metadata": {},
   "outputs": [],
   "source": [
    "import pandas as pd\n",
    "import numpy as np\n",
    "import redis"
   ]
  },
  {
   "cell_type": "code",
   "execution_count": 2,
   "id": "27f18bcf-9ab6-46d9-afd8-6360a78e5609",
   "metadata": {},
   "outputs": [],
   "source": [
    "hostname = 'redis-18184.c11.us-east-1-2.ec2.redns.redis-cloud.com'\n",
    "portnumber = 18184\n",
    "password = '1KQWjPR6PgkXXFfTIgh4UnA1yLz8yOyo'\n",
    "\n",
    "r = redis.StrictRedis(host=hostname,\n",
    "                      port=portnumber,\n",
    "                      password=password)\n"
   ]
  },
  {
   "cell_type": "code",
   "execution_count": 3,
   "id": "99cd8989-98c2-44f5-a420-4bfe9a71d161",
   "metadata": {},
   "outputs": [
    {
     "data": {
      "text/plain": [
       "True"
      ]
     },
     "execution_count": 3,
     "metadata": {},
     "output_type": "execute_result"
    }
   ],
   "source": [
    "r.ping()"
   ]
  },
  {
   "cell_type": "code",
   "execution_count": 4,
   "id": "c8575c2f-a8b4-4ee4-96df-75b73580a2d3",
   "metadata": {},
   "outputs": [
    {
     "data": {
      "text/plain": [
       "b'Yin Kyi Phyu@Student@86'                  b'\\xf5\\xad\\xa8\\xbdb6\\x14\\xbfB\\x96u\\xbf\\xfe\\x05...\n",
       "b'May Moe Pwint Phyu@Student@83'            b'\\xcdJ\\x03\\xbfIDh\\xbfn\\xe3A\\xbe\\xbb#\\x95\\xbfh...\n",
       "b'Hsu Myat Noe@Student@86'                  b'\\xea\\x8e\\x06\\xbf,\\xba\\x93:\\x08 \\xd4\\xbfx\\xea...\n",
       "b'Su Lei Aung@Student@83'                   b'\\xe2A\\x9a\\xbf\\xfc#\\xe0>%\\xd9z\\xbf\\x118\\xda\\x...\n",
       "b'Oakker@Student@5'                         b'\\xba\\xabr\\xbe\\xe3\\xa0\\xc7\\xbfY\\xc3\\xf7<\\x08[...\n",
       "b\"Ye' Thein Htut@Student@82\"                b'm\\x01t\\xc0\\xd8\\x03\\x92\\xbf\\xd4\\xfd\\xfa\\xbf\\x...\n",
       "b'Thant Zin Htwe@Student@100'               b'\\xbb\\xe9 ?\\xbd\\x84\\xc4>Y4W?i\\xf4\\xae\\xbe\\x1b...\n",
       "b'Daw Phyu Thin Kyaing@Teacher@Software'    b'\\xe0\\xd8\\x95=\\xc1\\x8d#>@[\\xbc\\xbd\\x91\\x19\\xd...\n",
       "b'Ngu War Win@Teacher@Network'              b'\\x04\\xb3\\x0c\\xbeqX\\xcb\\xbe\\xf2\\xcd\\xf5\\xbd\\x...\n",
       "b'Thin Yadanar Oo@Student@82'               b'\\xd06\\x94\\xbf\\x87\\xe3G\\xbe]\\xe0\\x8c\\xbe~1\\x8...\n",
       "b'Thet Htar@Student@97'                     b'),\\xb7\\xbe\\x0e\\x07\\xb3>\\xb0@\\xbe>\\x1c\\xfbs\\x...\n",
       "b'Aye Chan Myat Phyoe@Student@86'           b' \\xd0\\x92>\\xed\\x08\\xbd=\\xc5\\xb4\\x9a\\xbe\\xf0\\...\n",
       "b'Daw Thida Lwin@Teacher@Software'          b'\\x81\\xe7\\xbe?\\x7fW\\xe8?\\xa7q\\xa3\\xbe\\x13=g>|...\n",
       "b'Bo Bo Min@Student@78'                     b'\\x17J\\xf4=D?\\xcc\\xbe\\xe6\\xb8=<\\x00(B\\xbf\\xef...\n",
       "b'Dr. Aye Aye Myint@Teacher@Software'       b'\\x12\\xad\\xc0\\xbd]\\xe1c>\\xfc2!?\\xbb\\xd4\\x1b\\x...\n",
       "b'Win Htut Naing@Student@82'                b'B\\xdc\\xd2>\\xc4\\x9f\\x80\\xbet\\xad\\x18?\\x10\\xed...\n",
       "b'U Min Min Soe@Teacher@Network'            b'\\xed\\xc3\\x86\\xbfR\\x1d\\xea=\\xb9\\x0b\\xda\\xbe\\x...\n",
       "b'Zin Lin Htet@Student@78'                  b'\\xb0\\xc4!\\xc0\\xa7x\\xf2\\xbe)\\xdf\\x97\\xbe\\xdb\\...\n",
       "b'Thin Yu@Student@97'                       b'\\xa3\\xbb\\x0c\\xbf\\xaa\\x11\\\\\\xbf\\xc8\\x1d\\x11?\\...\n",
       "b'Min Thiha@Student@74'                     b'\\xf0,J<\\x12\\x8f@?(y(?lJ\\x84<f\\xba\\xf9\\xbe\\xc...\n",
       "b'Lwin Min@Student@83'                      b'r\\xb7\\xca>\\x19u\\xf6>\\xed#\\x81\\xbf0Ua?`\\xd0|>...\n",
       "b'Aye Myat Phoo Khine@Student@83'           b'\\xdf\\xe3\\xd8\\xbfy!\\x9d\\xbe\\x9c\\x14J\\xbe\\xe0\\...\n",
       "b'Htan Lin Han@Student@82'                  b'\\xf0\\xaa&\\xbf\\xb7\\x85\\x15\\xbfDI\\xeb\\xbf@\\xcf...\n",
       "b'Tun Tun Nyein@Teacher'                    b'\"R\\xbc\\xbe\\x18\\x9f\\xdc\\xbe\\xd6(E\\xbf\\x90Z1\\x...\n",
       "b'Aung Paing Oo@Student@79'                 b'\\xa9\\xb8a\\xbf,`B?p\\xd9\\\\?\\x9cI\\xc2\\xbd~\\xee\\...\n",
       "b'Dr. Moe Arkar Lwin@Teacher@None'          b'm\\xcac?[\\xc7\\x1d?&\\x8a\\x8f?\\x19\\xccS?e\\xc2J\\...\n",
       "b'Dr. Nyo Nyo Htwe@Teacher@Network'         b'\\xe6\\\\G?\\xddSG\\xbf\\x94\\x15\\xa2\\xbe\\x8f\\xfd\\x...\n",
       "b'Kyaw Zaw@Student@91'                      b'M\\x1d\\r\\xbfgW\\x10\\xbf\\xcc\\xb3\\xa2\\xbe\\xfb0\\x...\n",
       "b'Aung Khant Kyaw@Student@86'               b'\\x7f\\xbeD\\xc0*m\\xa3\\xbc\\xd2\\xb3\\xee\\xbf\\xbc\\...\n",
       "b'Myo Thiha@Student@100'                    b'\\x98\\xa0\\x8a>\\x1ax\\xa4\\xbe\\x13\\x03\\x90\\xbfC\\...\n",
       "b'Mya Hmue Kha@Student@27'                  b'\\xc6\\x07\\x85\\xbd\\x01<\\'?\\xddh\\x9f\\xbd\\x96l^\\...\n",
       "b'Yoon Phyu@Student@98'                     b'\\xb8\\x88\\xc5>>N\\x02\\xbf\\xeb\\xd7)?\\x1f\\x01\\x8...\n",
       "b'Min Khant@Student@100'                    b'\\x8f\\xc1b\\xbfl\\x01\\x8f\\xbfXz\\x1b\\xc0\\x8d%%>\\...\n",
       "b'Wuttyi Oo@Student@86'                     b'\\xf0,\\x8f\\xbe&\\xf2\\xa3>A\\x16\\r=\\xbet\\xfa\\xbe...\n",
       "b'Hein Htoo Naing@Student@99'               b'\\xfd\\xd06\\xbf9\\xbfG?=\\x1f\\xb7>\\x91\\x06\\xaa?\\...\n",
       "b'Kyaw Swan Yi@Student@16'                  b'.\\xbc\\x83=\\xd1L]<\\xcf\\x86\\xab>\\xb0\\xf0)?\\n6\\...\n",
       "b'Zaw Win Tun@Student@24'                   b'+\\x1aH>\\x0e\\xfd\\xf1\\xbe\\x15\\xcc\\x98\\xbf4\\xc2...\n",
       "b'AD@Teacher@Network'                       b'V\\xecG?\\x10\\xe1$\\xbf\\x16\\x08\\x85\\xbfi\\xe4R\\x...\n",
       "dtype: object"
      ]
     },
     "execution_count": 4,
     "metadata": {},
     "output_type": "execute_result"
    }
   ],
   "source": [
    "name = 'info:myanmar'\n",
    "register_series = pd.Series(r.hgetall(name))\n",
    "register_series"
   ]
  },
  {
   "cell_type": "code",
   "execution_count": 25,
   "id": "0c523435-aaf7-46d1-a837-c64fa53fd1e8",
   "metadata": {},
   "outputs": [
    {
     "data": {
      "text/plain": [
       "1"
      ]
     },
     "execution_count": 25,
     "metadata": {},
     "output_type": "execute_result"
    }
   ],
   "source": [
    "# delete keys/ fields\n",
    "key_to_del = 'Kyaw Zaw@Student@91'\n",
    "r.hdel(name, key_to_del)"
   ]
  },
  {
   "cell_type": "code",
   "execution_count": 26,
   "id": "70a503ae-172d-44ba-92c8-3dfd543d8c3c",
   "metadata": {},
   "outputs": [
    {
     "data": {
      "text/plain": [
       "b'Dr. Nyo Nyo Htwe@Teacher@Network'         b'\\xe6\\\\G?\\xddSG\\xbf\\x94\\x15\\xa2\\xbe\\x8f\\xfd\\x...\n",
       "b'Aung Khant Kyaw@Student@86'               b'\\x7f\\xbeD\\xc0*m\\xa3\\xbc\\xd2\\xb3\\xee\\xbf\\xbc\\...\n",
       "b'Myo Thiha@Student@100'                    b'\\x98\\xa0\\x8a>\\x1ax\\xa4\\xbe\\x13\\x03\\x90\\xbfC\\...\n",
       "b'Thant Zin Htwe@Student@100'               b'\\xbb\\xe9 ?\\xbd\\x84\\xc4>Y4W?i\\xf4\\xae\\xbe\\x1b...\n",
       "b'Thin Yadanar Oo@Student@82'               b'\\xd06\\x94\\xbf\\x87\\xe3G\\xbe]\\xe0\\x8c\\xbe~1\\x8...\n",
       "b'Aye Chan Myat Phyoe@Student@86'           b' \\xd0\\x92>\\xed\\x08\\xbd=\\xc5\\xb4\\x9a\\xbe\\xf0\\...\n",
       "b'Win Htut Naing@Student@82'                b'B\\xdc\\xd2>\\xc4\\x9f\\x80\\xbet\\xad\\x18?\\x10\\xed...\n",
       "b'Dr. Aye Aye Myint@Teacher@Software'       b'\\x12\\xad\\xc0\\xbd]\\xe1c>\\xfc2!?\\xbb\\xd4\\x1b\\x...\n",
       "b'U Min Min Soe@Teacher@Network'            b'\\xed\\xc3\\x86\\xbfR\\x1d\\xea=\\xb9\\x0b\\xda\\xbe\\x...\n",
       "b'Yoon Phyu@Student@98'                     b'\\xb8\\x88\\xc5>>N\\x02\\xbf\\xeb\\xd7)?\\x1f\\x01\\x8...\n",
       "b'Zin Lin Htet@Student@78'                  b'\\xb0\\xc4!\\xc0\\xa7x\\xf2\\xbe)\\xdf\\x97\\xbe\\xdb\\...\n",
       "b'Min Thiha@Student@74'                     b'\\xf0,J<\\x12\\x8f@?(y(?lJ\\x84<f\\xba\\xf9\\xbe\\xc...\n",
       "b'Thin Yu@Student@97'                       b'\\xa3\\xbb\\x0c\\xbf\\xaa\\x11\\\\\\xbf\\xc8\\x1d\\x11?\\...\n",
       "b'Aye Myat Phoo Khine@Student@83'           b'\\xdf\\xe3\\xd8\\xbfy!\\x9d\\xbe\\x9c\\x14J\\xbe\\xe0\\...\n",
       "b'Dr. Moe Arkar Lwin@Teacher@None'          b'm\\xcac?[\\xc7\\x1d?&\\x8a\\x8f?\\x19\\xccS?e\\xc2J\\...\n",
       "b'Wuttyi Oo@Student@86'                     b'\\xf0,\\x8f\\xbe&\\xf2\\xa3>A\\x16\\r=\\xbet\\xfa\\xbe...\n",
       "b'Su Lei Aung@Student@83'                   b'\\xe2A\\x9a\\xbf\\xfc#\\xe0>%\\xd9z\\xbf\\x118\\xda\\x...\n",
       "b'Oakker@Student@5'                         b'\\xba\\xabr\\xbe\\xe3\\xa0\\xc7\\xbfY\\xc3\\xf7<\\x08[...\n",
       "b\"Ye' Thein Htut@Student@82\"                b'm\\x01t\\xc0\\xd8\\x03\\x92\\xbf\\xd4\\xfd\\xfa\\xbf\\x...\n",
       "b'Daw Phyu Thin Kyaing@Teacher@Software'    b'\\xe0\\xd8\\x95=\\xc1\\x8d#>@[\\xbc\\xbd\\x91\\x19\\xd...\n",
       "b'Ngu War Win@Teacher@Network'              b'\\x04\\xb3\\x0c\\xbeqX\\xcb\\xbe\\xf2\\xcd\\xf5\\xbd\\x...\n",
       "b'Thet Htar@Student@97'                     b'),\\xb7\\xbe\\x0e\\x07\\xb3>\\xb0@\\xbe>\\x1c\\xfbs\\x...\n",
       "b'Daw Thida Lwin@Teacher@Software'          b'\\x81\\xe7\\xbe?\\x7fW\\xe8?\\xa7q\\xa3\\xbe\\x13=g>|...\n",
       "b'Lwin Min@Student@83'                      b'r\\xb7\\xca>\\x19u\\xf6>\\xed#\\x81\\xbf0Ua?`\\xd0|>...\n",
       "b'Tun Tun Nyein@Teacher'                    b'\"R\\xbc\\xbe\\x18\\x9f\\xdc\\xbe\\xd6(E\\xbf\\x90Z1\\x...\n",
       "dtype: object"
      ]
     },
     "execution_count": 26,
     "metadata": {},
     "output_type": "execute_result"
    }
   ],
   "source": [
    "register_series = pd.Series(r.hgetall(name))\n",
    "register_series"
   ]
  },
  {
   "cell_type": "code",
   "execution_count": 7,
   "id": "d32ec20d-7199-4936-9e89-08c26bfabd71",
   "metadata": {},
   "outputs": [
    {
     "data": {
      "text/plain": [
       "0"
      ]
     },
     "execution_count": 7,
     "metadata": {},
     "output_type": "execute_result"
    }
   ],
   "source": [
    "key_to_del = 'asdad'\n",
    "r.hdel(name, key_to_del)"
   ]
  },
  {
   "cell_type": "code",
   "execution_count": null,
   "id": "9a1ff84e-a792-428b-a756-6a67bae34be9",
   "metadata": {},
   "outputs": [],
   "source": [
    "for key in r.scan_iter():\n",
    "    client.set(key, '')"
   ]
  },
  {
   "cell_type": "code",
   "execution_count": null,
   "id": "0f770c34-4766-42c9-b01e-99d6e8268415",
   "metadata": {},
   "outputs": [],
   "source": []
  },
  {
   "cell_type": "code",
   "execution_count": null,
   "id": "13eacad1",
   "metadata": {},
   "outputs": [],
   "source": []
  },
  {
   "cell_type": "code",
   "execution_count": null,
   "id": "6277c58c",
   "metadata": {},
   "outputs": [],
   "source": []
  }
 ],
 "metadata": {
  "kernelspec": {
   "display_name": "Python 3 (ipykernel)",
   "language": "python",
   "name": "python3"
  },
  "language_info": {
   "codemirror_mode": {
    "name": "ipython",
    "version": 3
   },
   "file_extension": ".py",
   "mimetype": "text/x-python",
   "name": "python",
   "nbconvert_exporter": "python",
   "pygments_lexer": "ipython3",
   "version": "3.11.4"
  }
 },
 "nbformat": 4,
 "nbformat_minor": 5
}
